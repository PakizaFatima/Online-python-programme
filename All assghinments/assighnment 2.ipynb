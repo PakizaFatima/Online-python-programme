{
 "cells": [
  {
   "cell_type": "code",
   "execution_count": 1,
   "id": "ef23a8db",
   "metadata": {},
   "outputs": [
    {
     "name": "stdout",
     "output_type": "stream",
     "text": [
      "Grade A+\n"
     ]
    }
   ],
   "source": [
    "Eng = 80\n",
    "Isl = 90\n",
    "Math = 80\n",
    "Total = 300\n",
    "percent = (Eng + Isl + Math)/Total*100\n",
    "if percent < 100 and percent >= 80:\n",
    "    print(\"Grade A+\");\n",
    "elif percent < 80 and percent >= 70:\n",
    "    print(\"Grade A\");\n",
    "elif percent < 70 and percent >= 60:\n",
    "    print(\"Grade B\");\n",
    "elif percent < 60 and percent >= 50:\n",
    "    print(\"Grade C\");\n",
    "elif percent < 50 and percent >= 40:\n",
    "    print(\"Grade D\");\n",
    "elif percent < 40 and percent >= 33:\n",
    "    print(\"Grade E\");\n",
    "elif percent < 0 and percent > 100:\n",
    "    print(\"You did not write correct percent\");\n",
    "else:\n",
    "    print(\"Fail\");"
   ]
  },
  {
   "cell_type": "code",
   "execution_count": null,
   "id": "97ae2b71",
   "metadata": {},
   "outputs": [],
   "source": []
  },
  {
   "cell_type": "code",
   "execution_count": null,
   "id": "73cca563",
   "metadata": {},
   "outputs": [],
   "source": []
  }
 ],
 "metadata": {
  "kernelspec": {
   "display_name": "Python 3",
   "language": "python",
   "name": "python3"
  },
  "language_info": {
   "codemirror_mode": {
    "name": "ipython",
    "version": 3
   },
   "file_extension": ".py",
   "mimetype": "text/x-python",
   "name": "python",
   "nbconvert_exporter": "python",
   "pygments_lexer": "ipython3",
   "version": "3.8.8"
  }
 },
 "nbformat": 4,
 "nbformat_minor": 5
}
