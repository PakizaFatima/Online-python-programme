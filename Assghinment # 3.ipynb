{
 "cells": [
  {
   "cell_type": "code",
   "execution_count": 2,
   "id": "b5287e39",
   "metadata": {},
   "outputs": [
    {
     "name": "stdout",
     "output_type": "stream",
     "text": [
      "Twinkle, twinkle, little star, \n",
      "\tHow I wonder what you are! \n",
      "\t\tUp above the world so high, \n",
      "\t\tLike a diamond in the sky. \n",
      "Twinkle, twinkle, little star, \n",
      "\tHow I wonder what you are!\n"
     ]
    }
   ],
   "source": [
    "\"\"\"#q1;Write a Python program to print the following string in a specific format (see the\n",
    "output).\n",
    "\n",
    "Twinkle, twinkle, little star,\n",
    "        How I wonder what you are!\n",
    "                Up above the world so high,\n",
    "                Like a diamond in the sky.\n",
    "\n",
    "Twinkle, twinkle, little star,\n",
    "        How I wonder what you are\"\"\"\n",
    "\n",
    "print(\"Twinkle, twinkle, little star, \\n\\tHow I wonder what you are! \\n\\t\\tUp above the world so high, \\n\\t\\tLike a diamond in the sky. \\nTwinkle, twinkle, little star, \\n\\tHow I wonder what you are!\")\n"
   ]
  },
  {
   "cell_type": "code",
   "execution_count": 3,
   "id": "f11ca0e7",
   "metadata": {},
   "outputs": [
    {
     "name": "stdout",
     "output_type": "stream",
     "text": [
      "Python version\n",
      "3.8.8 (default, Apr 13 2021, 15:08:03) [MSC v.1916 64 bit (AMD64)]\n",
      "Version info.\n",
      "sys.version_info(major=3, minor=8, micro=8, releaselevel='final', serial=0)\n"
     ]
    }
   ],
   "source": [
    "#q2;Write a Python program to get the Python version you are using\n",
    "\n",
    "import sys\n",
    "print(\"Python version\")\n",
    "print (sys.version)\n",
    "print(\"Version info.\")\n",
    "print (sys.version_info)\n"
   ]
  },
  {
   "cell_type": "code",
   "execution_count": 4,
   "id": "5447edb0",
   "metadata": {},
   "outputs": [
    {
     "name": "stdout",
     "output_type": "stream",
     "text": [
      "Current date and time : \n",
      "23-10-2021 16:02:51\n"
     ]
    }
   ],
   "source": [
    "#q3;Write a Python program to display the current date and time.\n",
    "\n",
    "import datetime\n",
    "now = datetime.datetime.now()\n",
    "print (\"Current date and time : \")\n",
    "print (now.strftime(\"%d-%m-%Y %H:%M:%S\"))\n"
   ]
  },
  {
   "cell_type": "code",
   "execution_count": 5,
   "id": "66ce9242",
   "metadata": {},
   "outputs": [
    {
     "name": "stdout",
     "output_type": "stream",
     "text": [
      "Input the radius of the circle : 15\n",
      "The area of the circle with radius 15.0 is: 706.8583470577034\n"
     ]
    }
   ],
   "source": [
    "\"\"\"#q4;Write a Python program which accepts the radius of a circle from the user and compute\n",
    "the area.\"\"\"\n",
    "\n",
    "from math import pi\n",
    "r = float(input (\"Input the radius of the circle : \"))\n",
    "print (\"The area of the circle with radius \" + str(r) + \" is: \" + str(pi * r**2))\n"
   ]
  },
  {
   "cell_type": "code",
   "execution_count": 6,
   "id": "ac422f56",
   "metadata": {},
   "outputs": [
    {
     "name": "stdout",
     "output_type": "stream",
     "text": [
      "Input your First Name : Pakiza\n",
      "Input your Last Name : Fatima\n",
      "Slam  Fatima Pakiza\n"
     ]
    }
   ],
   "source": [
    "\"\"\"#q5;Write a Python program which accepts the user's first and last name and print them in\n",
    "reverse order with a space between them.\"\"\"\n",
    "\n",
    "fname = input(\"Input your First Name : \")\n",
    "lname = input(\"Input your Last Name : \")\n",
    "print (\"Slam  \" + lname + \" \" + fname)\n"
   ]
  },
  {
   "cell_type": "code",
   "execution_count": 1,
   "id": "95d8cbfe",
   "metadata": {},
   "outputs": [
    {
     "name": "stdout",
     "output_type": "stream",
     "text": [
      "Type a number: 98\n",
      "Type another number: 8\n",
      "The sum is:  106\n"
     ]
    }
   ],
   "source": [
    "#Q6;Write a python program which takes two inputs from user and print them additio\n",
    "x = input(\"Type a number: \")\n",
    "y = input(\"Type another number: \")\n",
    "\n",
    "sum = int(x) + int(y)\n",
    "\n",
    "print(\"The sum is: \", sum)"
   ]
  },
  {
   "cell_type": "code",
   "execution_count": 2,
   "id": "f50b6a33",
   "metadata": {},
   "outputs": [
    {
     "name": "stdout",
     "output_type": "stream",
     "text": [
      "marks of eng85\n",
      "marks of isl90\n",
      "marks of math80\n",
      "marks of phy85\n",
      "marks of chem80\n",
      "Grade A+\n"
     ]
    }
   ],
   "source": [
    "\"\"\"Q7;Write a program which takes 5 inputs from user for different subject’s marks, total it\n",
    "and generate mark sheet using grades ?\"\"\"\n",
    "Eng = int(input(\"marks of eng\"))\n",
    "Isl = int(input(\"marks of isl\"))\n",
    "Math = int(input(\"marks of math\"))\n",
    "Phy = int(input(\"marks of phy\"))\n",
    "Chem = int(input(\"marks of chem\"))\n",
    "Total = 500\n",
    "percent = (Eng + Isl + Math + Phy + Chem)/Total*100\n",
    "if percent < 100 and percent >= 80:\n",
    "    print(\"Grade A+\");\n",
    "elif percent < 80 and percent >= 70:\n",
    "    print(\"Grade A\");\n",
    "elif percent < 70 and percent >= 60:\n",
    "    print(\"Grade B\");\n",
    "elif percent < 60 and percent >= 50:\n",
    "    print(\"Grade C\");\n",
    "elif percent < 50 and percent >= 40:\n",
    "    print(\"Grade D\");\n",
    "elif percent < 40 and percent >= 33:\n",
    "    print(\"Grade E\");\n",
    "elif percent < 0 and percent > 100:\n",
    "    print(\"You did not write correct percent\");\n",
    "else:\n",
    "    print(\"Fail\");"
   ]
  },
  {
   "cell_type": "code",
   "execution_count": 3,
   "id": "6314642b",
   "metadata": {},
   "outputs": [
    {
     "name": "stdout",
     "output_type": "stream",
     "text": [
      "Enter a number: 567\n",
      "This is an odd number.\n"
     ]
    }
   ],
   "source": [
    "\"\"\"Q8;Write a program which take input from user and identify that the given number is even\n",
    "or odd?\"\"\"\n",
    "num = int(input(\"Enter a number: \"))\n",
    "mod = num % 2\n",
    "if mod > 0:\n",
    "    print(\"This is an odd number.\")\n",
    "else:\n",
    "    print(\"This is an even number.\")"
   ]
  },
  {
   "cell_type": "code",
   "execution_count": 4,
   "id": "4aa8c4b2",
   "metadata": {},
   "outputs": [
    {
     "name": "stdout",
     "output_type": "stream",
     "text": [
      "7\n"
     ]
    }
   ],
   "source": [
    "#Q9;Write a program which print the length of the list?\n",
    "inp_list = [\"dog\",\"cat\",\"monkey\",\"lion\",\"giraffe\",\"cow\",\"sheep\"]\n",
    "length = len(inp_list)\n",
    "print(length)"
   ]
  },
  {
   "cell_type": "code",
   "execution_count": 6,
   "id": "10586e72",
   "metadata": {},
   "outputs": [
    {
     "name": "stdout",
     "output_type": "stream",
     "text": [
      "32\n"
     ]
    }
   ],
   "source": [
    "#Q10.Write a Python program to sum all the numeric items in a list?\n",
    "def sum_list(items):\n",
    "    sum_numbers = 0\n",
    "    for z in items:\n",
    "        sum_numbers += z\n",
    "    return sum_numbers\n",
    "print(sum_list([43,4,-6,-9]))\n"
   ]
  },
  {
   "cell_type": "code",
   "execution_count": 7,
   "id": "f3911526",
   "metadata": {},
   "outputs": [
    {
     "name": "stdout",
     "output_type": "stream",
     "text": [
      "90\n"
     ]
    }
   ],
   "source": [
    "#Q11.Write a Python program to get the largest number from a numeric list.\n",
    "def max_num_in_list( list ):\n",
    "    max = list[ 0 ]\n",
    "    for x in list:\n",
    "        if x > max:\n",
    "            max = x\n",
    "    return max\n",
    "print(max_num_in_list([90, 44, -76, 56]))\n"
   ]
  },
  {
   "cell_type": "code",
   "execution_count": 8,
   "id": "46d56494",
   "metadata": {},
   "outputs": [
    {
     "name": "stdout",
     "output_type": "stream",
     "text": [
      "1\n",
      "1\n",
      "2\n",
      "3\n",
      "-5\n"
     ]
    }
   ],
   "source": [
    "\"\"\"Q12. Take a list, say for example this one:\n",
    "a = [1, 1, 2, 3, 5, 8, 13, 21, 34, 55, 89]\n",
    "Write a program that prints out all the elements of the list that are less than 5.\"\"\"\n",
    "\n",
    "x = [1, 1, 2, 3, 5, 8, 13, 21, 34, -5, 6]\n",
    "\n",
    "for y in x:\n",
    "\n",
    "    if y < 5:\n",
    "\n",
    "        print(y)"
   ]
  },
  {
   "cell_type": "code",
   "execution_count": null,
   "id": "35dd46bc",
   "metadata": {},
   "outputs": [],
   "source": []
  }
 ],
 "metadata": {
  "kernelspec": {
   "display_name": "Python 3",
   "language": "python",
   "name": "python3"
  },
  "language_info": {
   "codemirror_mode": {
    "name": "ipython",
    "version": 3
   },
   "file_extension": ".py",
   "mimetype": "text/x-python",
   "name": "python",
   "nbconvert_exporter": "python",
   "pygments_lexer": "ipython3",
   "version": "3.8.8"
  }
 },
 "nbformat": 4,
 "nbformat_minor": 5
}
