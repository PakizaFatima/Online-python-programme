{
 "cells": [
  {
   "cell_type": "code",
   "execution_count": 19,
   "id": "6f8e4380",
   "metadata": {},
   "outputs": [
    {
     "name": "stdout",
     "output_type": "stream",
     "text": [
      "What to do?\n",
      "1.Add\n",
      "2.Subtract\n",
      "3.Multiply\n",
      "4.Divide\n",
      "Enter choice(1/2/3/4): 1\n",
      "Enter first number: 34\n",
      "Enter second number: 56\n",
      "34.0 + 56.0 = 90.0\n",
      "Let's do next calculation? (yes/no): no\n"
     ]
    }
   ],
   "source": [
    "# Q1; Make a calculator using Python with addition , subtraction , multiplication ,division and power.\n",
    "def add(x, y): # For addition\n",
    "    return x + y\n",
    "def subtract(x, y): # For subtraction\n",
    "    return x - y\n",
    "def multiply(x, y): # For multiplication\n",
    "    return x * y\n",
    "def divide(x, y): # For division\n",
    "    return x / y\n",
    "print(\"What to do?\")\n",
    "print(\"1.Add\")\n",
    "print(\"2.Subtract\")\n",
    "print(\"3.Multiply\")\n",
    "print(\"4.Divide\")\n",
    "while True:\n",
    "    choice = input(\"Enter choice(1/2/3/4): \")  # take input \n",
    "\n",
    "    if choice in ('1', '2', '3', '4'): \n",
    "        num1 = float(input(\"Enter first number: \"))\n",
    "        num2 = float(input(\"Enter second number: \"))\n",
    "\n",
    "        if choice == '1':\n",
    "            print(num1, \"+\", num2, \"=\", add(num1, num2))\n",
    "\n",
    "        elif choice == '2':\n",
    "            print(num1, \"-\", num2, \"=\", subtract(num1, num2))\n",
    "\n",
    "        elif choice == '3':\n",
    "            print(num1, \"*\", num2, \"=\", multiply(num1, num2))\n",
    "\n",
    "        elif choice == '4':\n",
    "            print(num1, \"/\", num2, \"=\", divide(num1, num2))\n",
    "        \n",
    "        next_calculation = input(\"Let's do next calculation? (yes/no): \")\n",
    "        if next_calculation == \"no\":\n",
    "          break\n",
    "    \n",
    "    else:\n",
    "        print(\"Invalid Input\")\n",
    "    "
   ]
  },
  {
   "cell_type": "code",
   "execution_count": 19,
   "id": "12e0f91b",
   "metadata": {},
   "outputs": [
    {
     "name": "stdout",
     "output_type": "stream",
     "text": [
      "False\n",
      "False\n",
      "True\n"
     ]
    }
   ],
   "source": [
    "# Q2; Write a program to check if there is any numeric value in list using for loop.\n",
    "num = \"7.9877\"\n",
    "num2 = \"u76\"\n",
    "num3 = \"6785\"\n",
    "\n",
    "x = num.isnumeric()\n",
    "y = num2.isnumeric()\n",
    "z = num3.isnumeric()\n",
    "\n",
    "print(x)\n",
    "print(y)\n",
    "print(z)"
   ]
  },
  {
   "cell_type": "code",
   "execution_count": 2,
   "id": "d016c5b3",
   "metadata": {},
   "outputs": [
    {
     "name": "stdout",
     "output_type": "stream",
     "text": [
      "{0: 10, 1: 20, 2: 30, 3: 40}\n",
      "{0: 10, 1: 20, 2: 30, 3: 40, 5: 60}\n"
     ]
    }
   ],
   "source": [
    "# Q3; Write a Python script to add a key to a dictionary.\n",
    "D = {0:10, 1:20, 2:30, 3:40}\n",
    "print(D)\n",
    "D.update({5:60})\n",
    "print(D)\n"
   ]
  },
  {
   "cell_type": "code",
   "execution_count": 22,
   "id": "c3dca424",
   "metadata": {},
   "outputs": [
    {
     "name": "stdout",
     "output_type": "stream",
     "text": [
      "-98527\n"
     ]
    }
   ],
   "source": [
    "# Q4; Write a Python program to sum all the numeric items in a dictionary.\n",
    "new_dic = {'alpha':52,'beta':98,'gema':-98677}\n",
    "print(sum(new_dic.values()))"
   ]
  },
  {
   "cell_type": "code",
   "execution_count": 5,
   "id": "cd097850",
   "metadata": {},
   "outputs": [
    {
     "name": "stdout",
     "output_type": "stream",
     "text": [
      "9 7 6 2 3 "
     ]
    }
   ],
   "source": [
    "# Q5; Write a program to identify duplicate values from list.\n",
    "list=[0,9,8,9,7,6,5,7,6,3,2,1,2,3]\n",
    "new_list=[]\n",
    "for i in list:\n",
    "    if i not in new_list:\n",
    "        new_list.append(i)\n",
    "    else:\n",
    "        print(i,end=' ')"
   ]
  },
  {
   "cell_type": "code",
   "execution_count": 17,
   "id": "d794dcd0",
   "metadata": {},
   "outputs": [
    {
     "name": "stdout",
     "output_type": "stream",
     "text": [
      "Key is present in the dictionary\n",
      "Key is not present in the dictionary\n"
     ]
    }
   ],
   "source": [
    "# Q6; Write a Python script to check if a given key already exists in a dictionary\n",
    "Dic = {1: 10, 2: 20, 3: 30, 4: 40, 5: 50, 6: 60}\n",
    "def is_key_already_exists(y):\n",
    "  if y in Dic:\n",
    "      print('Key is present in the dictionary')\n",
    "  else:\n",
    "      print('Key is not present in the dictionary')\n",
    "is_key_already_exists(4)\n",
    "is_key_already_exists(59)"
   ]
  },
  {
   "cell_type": "code",
   "execution_count": null,
   "id": "6def30f4",
   "metadata": {},
   "outputs": [],
   "source": []
  },
  {
   "cell_type": "code",
   "execution_count": null,
   "id": "5927fb36",
   "metadata": {},
   "outputs": [],
   "source": []
  }
 ],
 "metadata": {
  "kernelspec": {
   "display_name": "Python 3",
   "language": "python",
   "name": "python3"
  },
  "language_info": {
   "codemirror_mode": {
    "name": "ipython",
    "version": 3
   },
   "file_extension": ".py",
   "mimetype": "text/x-python",
   "name": "python",
   "nbconvert_exporter": "python",
   "pygments_lexer": "ipython3",
   "version": "3.8.8"
  }
 },
 "nbformat": 4,
 "nbformat_minor": 5
}
